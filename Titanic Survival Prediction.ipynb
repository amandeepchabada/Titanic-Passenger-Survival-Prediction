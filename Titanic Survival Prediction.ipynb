{
 "cells": [
  {
   "cell_type": "markdown",
   "id": "54e6cd3d",
   "metadata": {},
   "source": [
    "## Evaluating different classifiers to predict passenger survival in Titanic Dataset"
   ]
  },
  {
   "cell_type": "code",
   "execution_count": 1,
   "id": "cc21e026",
   "metadata": {},
   "outputs": [],
   "source": [
    "# Import libraries\n",
    "\n",
    "import pandas as pd\n",
    "import numpy as np\n",
    "import matplotlib.pyplot as plt\n",
    "from sklearn.model_selection import train_test_split\n",
    "from sklearn.metrics import accuracy_score\n",
    "from sklearn.naive_bayes import GaussianNB\n",
    "from sklearn.tree import DecisionTreeClassifier\n",
    "from sklearn.neighbors import KNeighborsClassifier\n",
    "from sklearn.ensemble import RandomForestClassifier\n",
    "from sklearn.model_selection import StratifiedKFold\n",
    "from sklearn.model_selection import cross_val_score\n",
    "from sklearn.dummy import DummyClassifier\n",
    "from scipy import stats\n",
    "from IPython.display import display"
   ]
  },
  {
   "cell_type": "code",
   "execution_count": 2,
   "id": "18225b00",
   "metadata": {},
   "outputs": [],
   "source": [
    "# Read data into Dataframe\n",
    "df_dev = pd.read_csv(\"titanic-dev.csv\")\n",
    "df_hold = pd.read_csv(\"titanic-heldout.csv\")"
   ]
  },
  {
   "cell_type": "code",
   "execution_count": 3,
   "id": "1cebb285",
   "metadata": {},
   "outputs": [
    {
     "name": "stdout",
     "output_type": "stream",
     "text": [
      "Data Preview\n",
      "    survived  pclass  sex     age     fare\n",
      "0       1.0     3.0  1.0  0.1667  20.5750\n",
      "1       0.0     3.0  0.0  0.3333  14.4000\n",
      "2       1.0     3.0  0.0  0.4167   8.5167\n",
      "3       1.0     2.0  0.0  0.6667  14.5000\n",
      "4       0.0     3.0  0.0  0.7500  13.7750\n",
      "\n",
      "Data Profile\n",
      "          survived      pclass         sex         age        fare\n",
      "count  945.000000  945.000000  945.000000  945.000000  945.000000\n",
      "mean     0.410582    2.204233    0.375661   29.666931   36.833077\n",
      "std      0.492200    0.838420    0.484550   14.410045   54.877383\n",
      "min      0.000000    1.000000    0.000000    0.166700    0.000000\n",
      "25%      0.000000    1.000000    0.000000   21.000000    8.050000\n",
      "50%      0.000000    2.000000    0.000000   28.000000   15.850000\n",
      "75%      1.000000    3.000000    1.000000   39.000000   36.750000\n",
      "max      1.000000    3.000000    1.000000   80.000000  512.329200\n",
      "\n",
      "Missing Value Check\n",
      " survived    0\n",
      "pclass      0\n",
      "sex         0\n",
      "age         0\n",
      "fare        0\n",
      "dtype: int64\n",
      "\n",
      "Class Balance\n",
      "           pclass  sex  age  fare\n",
      "survived                        \n",
      "0.0          557  557  557   557\n",
      "1.0          388  388  388   388\n",
      "\n",
      "Correlation Matrix\n",
      "           survived    pclass       sex       age      fare\n",
      "survived  1.000000 -0.324063  0.542967 -0.042656  0.247575\n",
      "pclass   -0.324063  1.000000 -0.149939 -0.407330 -0.571755\n",
      "sex       0.542967 -0.149939  1.000000 -0.048032  0.181448\n",
      "age      -0.042656 -0.407330 -0.048032  1.000000  0.176674\n",
      "fare      0.247575 -0.571755  0.181448  0.176674  1.000000\n"
     ]
    },
    {
     "data": {
      "image/png": "[encoded data removed]",
      "text/plain": [
       "<Figure size 288x288 with 1 Axes>"
      ]
     },
     "metadata": {
      "needs_background": "light"
     },
     "output_type": "display_data"
    },
    {
     "data": {
      "image/png": "[encoded data removed]",
      "text/plain": [
       "<Figure size 720x720 with 6 Axes>"
      ]
     },
     "metadata": {
      "needs_background": "light"
     },
     "output_type": "display_data"
    }
   ],
   "source": [
    "# Preview data\n",
    "print(\"Data Preview\\n\", df_dev.head())\n",
    "print(\"\\nData Profile\\n\", df_dev.describe())\n",
    "print(\"\\nMissing Value Check\\n\",df_dev.isna().sum())\n",
    "print(\"\\nClass Balance\\n\",df_dev.groupby('survived').count())\n",
    "print(\"\\nCorrelation Matrix\\n\",df_dev.corr())\n",
    "plt.matshow(df_dev.corr());\n",
    "plt.title(\"Correlation Matrix\")\n",
    "df_dev.hist(figsize=(10,10));\n"
   ]
  },
  {
   "cell_type": "code",
   "execution_count": 4,
   "id": "137f236a",
   "metadata": {},
   "outputs": [],
   "source": [
    "# Divide data into X and y\n",
    "X_dev = df_dev.drop('survived',axis = 1)\n",
    "y_dev = df_dev['survived']\n",
    "X_hold = df_hold.drop('survived',axis = 1)\n",
    "y_hold = df_hold['survived']"
   ]
  },
  {
   "cell_type": "code",
   "execution_count": 5,
   "id": "aa84bf8e",
   "metadata": {},
   "outputs": [],
   "source": [
    "# Helper function used to update the resutls for the classifications\n",
    "def update_results(clf,X_train,X_test,y_train,y_test,cross_val):\n",
    "    if cross_val>0:\n",
    "        cv = StratifiedKFold(n_splits = cross_val,random_state =2,shuffle=True)\n",
    "        cv_score = cross_val_score(clf, X_train, y_train, cv = cv)\n",
    "        std_err = stats.sem(cv_score)\n",
    "        test_acc = str(round(cv_score.mean(),3)) + \" +/- \" + str(round(std_err,3))\n",
    "    else:\n",
    "        y_pred_test = clf.fit(X_train, y_train).predict(X_test)\n",
    "        test_acc = accuracy_score(y_test, y_pred_test)\n",
    "    return test_acc\n",
    "\n",
    "# To test 4 different classifiers\n",
    "def test_classifiers(X_train,y_train,X_test,y_test,cross_val):\n",
    "    classifier_name = []\n",
    "    test_acc_set = []\n",
    "    \n",
    "    # Naive Bayes\n",
    "    gnb = GaussianNB()\n",
    "    classifier_name.append(\"Naive Bayes\")\n",
    "    test_acc_set.append(update_results(gnb,X_train,X_test,y_train,y_test,cross_val))\n",
    "    \n",
    "    # Decision Tree\n",
    "    dt = DecisionTreeClassifier(max_depth = 3,random_state =2)\n",
    "    classifier_name.append(\"Decision Tree\")\n",
    "    test_acc_set.append(update_results(dt,X_train,X_test,y_train,y_test,cross_val))\n",
    "    \n",
    "    # K-neighbors\n",
    "    kn = KNeighborsClassifier()\n",
    "    classifier_name.append(\"K-Neighbors\")\n",
    "    test_acc_set.append(update_results(kn,X_train,X_test,y_train,y_test,cross_val))\n",
    "    \n",
    "    # Random Forest\n",
    "    rf = RandomForestClassifier(max_depth = 2,random_state =2)\n",
    "    classifier_name.append(\"Random Forest\")\n",
    "    test_acc_set.append(update_results(rf,X_train,X_test,y_train,y_test,cross_val))\n",
    "    \n",
    "    return classifier_name,test_acc_set\n",
    "    "
   ]
  },
  {
   "cell_type": "code",
   "execution_count": 6,
   "id": "04f6b6c8",
   "metadata": {},
   "outputs": [],
   "source": [
    "# Function to evaluate classifiers on different test-train splits\n",
    "def experiment_1():\n",
    "    # Method A: Train on the first 473 items and test on the remaining 472. \n",
    "    X_train, X_test, y_train, y_test = train_test_split(X_dev, y_dev, test_size=0.499,shuffle = False)\n",
    "    classifier_name,classifier_acc = test_classifiers(X_train,y_train,X_test,y_test,cross_val = 0)\n",
    "    \n",
    "    output_dict = {\n",
    "        'Classifier': classifier_name,\n",
    "        'Method A': classifier_acc\n",
    "    }\n",
    "    # Method B: Train on a random subset of 473 items and test on the remaining 472.\n",
    "    X_train, X_test, y_train, y_test = train_test_split(X_dev, y_dev, test_size=0.499,shuffle = True,random_state =2)\n",
    "    _,classifier_acc = test_classifiers(X_train,y_train,X_test,y_test,cross_val=0)\n",
    "    output_dict['Method B'] = classifier_acc\n",
    "    \n",
    "    # Method C: Two-fold cross validation (report average test fold accuracy + standard error) \n",
    "    _,classifier_acc = test_classifiers(X_dev,y_dev,None,None,cross_val=2)\n",
    "    output_dict['Method C'] = classifier_acc\n",
    "    \n",
    "    # Method D: Ten-fold cross validation (report average test fold accuracy + standard error) \n",
    "    _,classifier_acc = test_classifiers(X_dev,y_dev,None,None,cross_val=10)\n",
    "    output_dict['Method D'] = classifier_acc\n",
    "    \n",
    "    # Method E: Develop your own strategy for train/test split(s) to evaluate the classifiers.\n",
    "    X_train, X_test, y_train, y_test = train_test_split(X_dev, y_dev, test_size=0.3, shuffle = True,random_state =2)\n",
    "    _,classifier_acc = test_classifiers(X_train,y_train,X_test,y_test,cross_val=0)\n",
    "    output_dict['Method E'] = classifier_acc\n",
    "    \n",
    "    # Table output\n",
    "    output_df = pd.DataFrame(output_dict)\n",
    "    display(output_df.style.hide_index())\n",
    "    output_dict.clear()\n",
    "    del output_df"
   ]
  },
  {
   "cell_type": "code",
   "execution_count": 7,
   "id": "95ef2d9b",
   "metadata": {},
   "outputs": [],
   "source": [
    "# Function to generate accuracy of the baseline classifier\n",
    "def baseline_classifier(X_dev,y_dev,X_hold):\n",
    "    dummy_clf = DummyClassifier(strategy=\"stratified\")\n",
    "    y_dummy_pred = dummy_clf.fit(X_dev, y_dev).predict(X_hold)\n",
    "    dummy_acc = dummy_clf.score(X_hold, y_dummy_pred)\n",
    "    return dummy_acc\n",
    "\n",
    "# Function to evaluate classifiers by training on entire training data\n",
    "def experiment_2():\n",
    "    \n",
    "    # Testing on holdout set\n",
    "    classifier_name,classifier_acc = test_classifiers(X_dev,y_dev,X_hold,y_hold,cross_val = 0)\n",
    "    output_dict = {\n",
    "        'Classifier': classifier_name,\n",
    "        'Accuracy': classifier_acc,\n",
    "    }\n",
    "    \n",
    "    # Testing accuracy based on gender split\n",
    "    X_hold_male = X_hold[X_hold['sex']==0]\n",
    "    y_hold_male = y_hold[df_hold['sex']==0]\n",
    "    X_hold_female = X_hold[X_hold['sex']==1]\n",
    "    y_hold_female = y_hold[df_hold['sex']==1]\n",
    "    \n",
    "    _,classifier_acc = test_classifiers(X_dev,y_dev,X_hold_male,y_hold_male,cross_val = 0)\n",
    "    output_dict['Accuracy: Male'] = classifier_acc\n",
    "    \n",
    "    _,classifier_acc = test_classifiers(X_dev,y_dev,X_hold_female,y_hold_female,cross_val = 0)\n",
    "    output_dict['Accuracy: Female'] = classifier_acc\n",
    "    \n",
    "    # Adding baseline readings for comparision\n",
    "    output_dict[\"Classifier\"].append('Baseline')\n",
    "    output_dict[\"Accuracy\"].append(baseline_classifier(X_dev,y_dev,X_hold))\n",
    "    output_dict['Accuracy: Male'].append(baseline_classifier(X_dev,y_dev,X_hold_male))\n",
    "    output_dict['Accuracy: Female'].append(baseline_classifier(X_dev,y_dev,X_hold_female))\n",
    "    \n",
    "    # Table output\n",
    "    output_df = pd.DataFrame(output_dict)\n",
    "    display(output_df.style.hide_index())\n",
    "    output_dict.clear()\n",
    "    del output_df\n",
    "    "
   ]
  },
  {
   "cell_type": "code",
   "execution_count": 8,
   "id": "e0a39fc1",
   "metadata": {},
   "outputs": [
    {
     "name": "stdout",
     "output_type": "stream",
     "text": [
      "Evaluating Exp1 \n"
     ]
    },
    {
     "data": {
      "text/html": [
       "<style type=\"text/css\">\n",
       "</style>\n",
       "<table id=\"T_265ee_\">\n",
       "  <thead>\n",
       "    <tr>\n",
       "      <th class=\"col_heading level0 col0\" >Classifier</th>\n",
       "      <th class=\"col_heading level0 col1\" >Method A</th>\n",
       "      <th class=\"col_heading level0 col2\" >Method B</th>\n",
       "      <th class=\"col_heading level0 col3\" >Method C</th>\n",
       "      <th class=\"col_heading level0 col4\" >Method D</th>\n",
       "      <th class=\"col_heading level0 col5\" >Method E</th>\n",
       "    </tr>\n",
       "  </thead>\n",
       "  <tbody>\n",
       "    <tr>\n",
       "      <td id=\"T_265ee_row0_col0\" class=\"data row0 col0\" >Naive Bayes</td>\n",
       "      <td id=\"T_265ee_row0_col1\" class=\"data row0 col1\" >0.684322</td>\n",
       "      <td id=\"T_265ee_row0_col2\" class=\"data row0 col2\" >0.766949</td>\n",
       "      <td id=\"T_265ee_row0_col3\" class=\"data row0 col3\" >0.765 +/- 0.023</td>\n",
       "      <td id=\"T_265ee_row0_col4\" class=\"data row0 col4\" >0.774 +/- 0.015</td>\n",
       "      <td id=\"T_265ee_row0_col5\" class=\"data row0 col5\" >0.774648</td>\n",
       "    </tr>\n",
       "    <tr>\n",
       "      <td id=\"T_265ee_row1_col0\" class=\"data row1 col0\" >Decision Tree</td>\n",
       "      <td id=\"T_265ee_row1_col1\" class=\"data row1 col1\" >0.828390</td>\n",
       "      <td id=\"T_265ee_row1_col2\" class=\"data row1 col2\" >0.783898</td>\n",
       "      <td id=\"T_265ee_row1_col3\" class=\"data row1 col3\" >0.768 +/- 0.022</td>\n",
       "      <td id=\"T_265ee_row1_col4\" class=\"data row1 col4\" >0.811 +/- 0.009</td>\n",
       "      <td id=\"T_265ee_row1_col5\" class=\"data row1 col5\" >0.774648</td>\n",
       "    </tr>\n",
       "    <tr>\n",
       "      <td id=\"T_265ee_row2_col0\" class=\"data row2 col0\" >K-Neighbors</td>\n",
       "      <td id=\"T_265ee_row2_col1\" class=\"data row2 col1\" >0.627119</td>\n",
       "      <td id=\"T_265ee_row2_col2\" class=\"data row2 col2\" >0.629237</td>\n",
       "      <td id=\"T_265ee_row2_col3\" class=\"data row2 col3\" >0.651 +/- 0.023</td>\n",
       "      <td id=\"T_265ee_row2_col4\" class=\"data row2 col4\" >0.655 +/- 0.013</td>\n",
       "      <td id=\"T_265ee_row2_col5\" class=\"data row2 col5\" >0.661972</td>\n",
       "    </tr>\n",
       "    <tr>\n",
       "      <td id=\"T_265ee_row3_col0\" class=\"data row3 col0\" >Random Forest</td>\n",
       "      <td id=\"T_265ee_row3_col1\" class=\"data row3 col1\" >0.815678</td>\n",
       "      <td id=\"T_265ee_row3_col2\" class=\"data row3 col2\" >0.781780</td>\n",
       "      <td id=\"T_265ee_row3_col3\" class=\"data row3 col3\" >0.766 +/- 0.014</td>\n",
       "      <td id=\"T_265ee_row3_col4\" class=\"data row3 col4\" >0.77 +/- 0.009</td>\n",
       "      <td id=\"T_265ee_row3_col5\" class=\"data row3 col5\" >0.774648</td>\n",
       "    </tr>\n",
       "  </tbody>\n",
       "</table>\n"
      ],
      "text/plain": [
       "<pandas.io.formats.style.Styler at 0x7f9ab84c52b0>"
      ]
     },
     "metadata": {},
     "output_type": "display_data"
    }
   ],
   "source": [
    "print(\"Evaluating Exp1 \")\n",
    "experiment_1()"
   ]
  },
  {
   "cell_type": "code",
   "execution_count": 9,
   "id": "c8e6ec06",
   "metadata": {},
   "outputs": [
    {
     "name": "stdout",
     "output_type": "stream",
     "text": [
      "Evaluating Exp2 \n"
     ]
    },
    {
     "data": {
      "text/html": [
       "<style type=\"text/css\">\n",
       "</style>\n",
       "<table id=\"T_0df91_\">\n",
       "  <thead>\n",
       "    <tr>\n",
       "      <th class=\"col_heading level0 col0\" >Classifier</th>\n",
       "      <th class=\"col_heading level0 col1\" >Accuracy</th>\n",
       "      <th class=\"col_heading level0 col2\" >Accuracy: Male</th>\n",
       "      <th class=\"col_heading level0 col3\" >Accuracy: Female</th>\n",
       "    </tr>\n",
       "  </thead>\n",
       "  <tbody>\n",
       "    <tr>\n",
       "      <td id=\"T_0df91_row0_col0\" class=\"data row0 col0\" >Naive Bayes</td>\n",
       "      <td id=\"T_0df91_row0_col1\" class=\"data row0 col1\" >0.730000</td>\n",
       "      <td id=\"T_0df91_row0_col2\" class=\"data row0 col2\" >0.731343</td>\n",
       "      <td id=\"T_0df91_row0_col3\" class=\"data row0 col3\" >0.727273</td>\n",
       "    </tr>\n",
       "    <tr>\n",
       "      <td id=\"T_0df91_row1_col0\" class=\"data row1 col0\" >Decision Tree</td>\n",
       "      <td id=\"T_0df91_row1_col1\" class=\"data row1 col1\" >0.760000</td>\n",
       "      <td id=\"T_0df91_row1_col2\" class=\"data row1 col2\" >0.776119</td>\n",
       "      <td id=\"T_0df91_row1_col3\" class=\"data row1 col3\" >0.727273</td>\n",
       "    </tr>\n",
       "    <tr>\n",
       "      <td id=\"T_0df91_row2_col0\" class=\"data row2 col0\" >K-Neighbors</td>\n",
       "      <td id=\"T_0df91_row2_col1\" class=\"data row2 col1\" >0.700000</td>\n",
       "      <td id=\"T_0df91_row2_col2\" class=\"data row2 col2\" >0.686567</td>\n",
       "      <td id=\"T_0df91_row2_col3\" class=\"data row2 col3\" >0.727273</td>\n",
       "    </tr>\n",
       "    <tr>\n",
       "      <td id=\"T_0df91_row3_col0\" class=\"data row3 col0\" >Random Forest</td>\n",
       "      <td id=\"T_0df91_row3_col1\" class=\"data row3 col1\" >0.740000</td>\n",
       "      <td id=\"T_0df91_row3_col2\" class=\"data row3 col2\" >0.776119</td>\n",
       "      <td id=\"T_0df91_row3_col3\" class=\"data row3 col3\" >0.666667</td>\n",
       "    </tr>\n",
       "    <tr>\n",
       "      <td id=\"T_0df91_row4_col0\" class=\"data row4 col0\" >Baseline</td>\n",
       "      <td id=\"T_0df91_row4_col1\" class=\"data row4 col1\" >0.540000</td>\n",
       "      <td id=\"T_0df91_row4_col2\" class=\"data row4 col2\" >0.522388</td>\n",
       "      <td id=\"T_0df91_row4_col3\" class=\"data row4 col3\" >0.545455</td>\n",
       "    </tr>\n",
       "  </tbody>\n",
       "</table>\n"
      ],
      "text/plain": [
       "<pandas.io.formats.style.Styler at 0x7f9aa832fcd0>"
      ]
     },
     "metadata": {},
     "output_type": "display_data"
    }
   ],
   "source": [
    "print(\"Evaluating Exp2 \")\n",
    "experiment_2()"
   ]
  },
  {
   "cell_type": "code",
   "execution_count": 10,
   "id": "a542b9fd",
   "metadata": {},
   "outputs": [
    {
     "name": "stdout",
     "output_type": "stream",
     "text": [
      "Pclass [1, 2, 3]\n",
      "FareSet ['Does not survive', 'Does not survive', 'Does not survive']\n"
     ]
    }
   ],
   "source": [
    "# My passenger using Decision Tree\n",
    "\n",
    "#Using DT as it performed best\n",
    "dt = DecisionTreeClassifier(max_depth = 3,random_state = 2)\n",
    "fare_set = []\n",
    "pclass_set = []\n",
    "#Loop to iterate towards the 3 classes\n",
    "for pclass in range(1,4):\n",
    "    pclass_set.append(pclass)\n",
    "    fare = 0\n",
    "    y_pred_test = 0\n",
    "    #Loop to figure stop when preditction is true\n",
    "    while y_pred_test!=1:\n",
    "        my_pass = {\n",
    "            'pclass': [pclass],\n",
    "            'sex' : [0],\n",
    "            'age': [24],\n",
    "            'fare': [fare]\n",
    "        }\n",
    "        y_pred_test = dt.fit(X_dev, y_dev).predict(pd.DataFrame(my_pass))\n",
    "        fare+=1\n",
    "        #If true add the fare to the set\n",
    "        if y_pred_test == 1:\n",
    "            fare_set.append(fare)\n",
    "            break\n",
    "        # If fare greater than upper bound, predict that passenger does not survive\n",
    "        elif fare>1000:\n",
    "            fare_set.append(\"Does not survive\")\n",
    "            break\n",
    "print(\"Pclass\",pclass_set)\n",
    "print(\"FareSet\",fare_set)"
   ]
  },
  {
   "cell_type": "code",
   "execution_count": 11,
   "id": "270f518a",
   "metadata": {},
   "outputs": [
    {
     "data": {
      "text/plain": [
       "[0.7528735632183908,\n",
       " 0.7931034482758621,\n",
       " 0.5632183908045977,\n",
       " 0.7586206896551724]"
      ]
     },
     "execution_count": 11,
     "metadata": {},
     "output_type": "execute_result"
    }
   ],
   "source": [
    "# Looking for subgroups\n",
    "X_train, X_test, y_train, y_test = train_test_split(X_dev, y_dev,test_size=0.499,shuffle = True,random_state=2)\n",
    "_,classifier_acc = test_classifiers(X_train,y_train,X_test[X_test['sex']==1],y_test[X_test['sex']==1],cross_val=0)\n",
    "classifier_acc"
   ]
  }
 ],
 "metadata": {
  "kernelspec": {
   "display_name": "Python 3 (ipykernel)",
   "language": "python",
   "name": "python3"
  },
  "language_info": {
   "codemirror_mode": {
    "name": "ipython",
    "version": 3
   },
   "file_extension": ".py",
   "mimetype": "text/x-python",
   "name": "python",
   "nbconvert_exporter": "python",
   "pygments_lexer": "ipython3",
   "version": "3.9.7"
  }
 },
 "nbformat": 4,
 "nbformat_minor": 5
}
